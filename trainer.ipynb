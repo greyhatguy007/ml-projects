{
 "cells": [
  {
   "cell_type": "code",
   "execution_count": 3,
   "metadata": {},
   "outputs": [],
   "source": [
    "import tensorflow.keras as keras\n",
    "import os\n",
    "from os import listdir\n",
    "import cv2\n",
    "import numpy as np\n",
    "from tensorflow.keras.models import Sequential\n",
    "from tensorflow.keras.layers import Conv2D, MaxPooling2D, Flatten, Dense\n",
    "from tensorflow.keras.preprocessing.image import ImageDataGenerator"
   ]
  },
  {
   "cell_type": "code",
   "execution_count": 4,
   "metadata": {},
   "outputs": [
    {
     "ename": "FileNotFoundError",
     "evalue": "[Errno 2] No such file or directory: './train/positive/pos__0_4560.jpg'",
     "output_type": "error",
     "traceback": [
      "\u001b[0;31m---------------------------------------------------------------------------\u001b[0m",
      "\u001b[0;31mFileNotFoundError\u001b[0m                         Traceback (most recent call last)",
      "Cell \u001b[0;32mIn[4], line 24\u001b[0m\n\u001b[1;32m     22\u001b[0m img \u001b[39m=\u001b[39m np\u001b[39m.\u001b[39mexpand_dims(img, axis\u001b[39m=\u001b[39m\u001b[39m0\u001b[39m)\n\u001b[1;32m     23\u001b[0m i \u001b[39m=\u001b[39m \u001b[39m0\u001b[39m\n\u001b[0;32m---> 24\u001b[0m \u001b[39mfor\u001b[39;00m batch \u001b[39min\u001b[39;00m datagen\u001b[39m.\u001b[39mflow(img, batch_size\u001b[39m=\u001b[39m\u001b[39m1\u001b[39m, save_to_dir\u001b[39m=\u001b[39mdir_gen_pos, save_prefix\u001b[39m=\u001b[39m\u001b[39m'\u001b[39m\u001b[39mpos_\u001b[39m\u001b[39m'\u001b[39m, save_format\u001b[39m=\u001b[39m\u001b[39m'\u001b[39m\u001b[39mjpg\u001b[39m\u001b[39m'\u001b[39m):\n\u001b[1;32m     25\u001b[0m   i \u001b[39m+\u001b[39m\u001b[39m=\u001b[39m \u001b[39m1\u001b[39m\n\u001b[1;32m     26\u001b[0m   \u001b[39mif\u001b[39;00m i \u001b[39m==\u001b[39m \u001b[39m20\u001b[39m:\n",
      "File \u001b[0;32m~/anaconda3/envs/ml/lib/python3.9/site-packages/keras_preprocessing/image/iterator.py:104\u001b[0m, in \u001b[0;36mIterator.__next__\u001b[0;34m(self, *args, **kwargs)\u001b[0m\n\u001b[1;32m    103\u001b[0m \u001b[39mdef\u001b[39;00m \u001b[39m__next__\u001b[39m(\u001b[39mself\u001b[39m, \u001b[39m*\u001b[39margs, \u001b[39m*\u001b[39m\u001b[39m*\u001b[39mkwargs):\n\u001b[0;32m--> 104\u001b[0m     \u001b[39mreturn\u001b[39;00m \u001b[39mself\u001b[39;49m\u001b[39m.\u001b[39;49mnext(\u001b[39m*\u001b[39;49margs, \u001b[39m*\u001b[39;49m\u001b[39m*\u001b[39;49mkwargs)\n",
      "File \u001b[0;32m~/anaconda3/envs/ml/lib/python3.9/site-packages/keras_preprocessing/image/iterator.py:116\u001b[0m, in \u001b[0;36mIterator.next\u001b[0;34m(self)\u001b[0m\n\u001b[1;32m    113\u001b[0m     index_array \u001b[39m=\u001b[39m \u001b[39mnext\u001b[39m(\u001b[39mself\u001b[39m\u001b[39m.\u001b[39mindex_generator)\n\u001b[1;32m    114\u001b[0m \u001b[39m# The transformation of images is not under thread lock\u001b[39;00m\n\u001b[1;32m    115\u001b[0m \u001b[39m# so it can be done in parallel\u001b[39;00m\n\u001b[0;32m--> 116\u001b[0m \u001b[39mreturn\u001b[39;00m \u001b[39mself\u001b[39;49m\u001b[39m.\u001b[39;49m_get_batches_of_transformed_samples(index_array)\n",
      "File \u001b[0;32m~/anaconda3/envs/ml/lib/python3.9/site-packages/keras_preprocessing/image/numpy_array_iterator.py:174\u001b[0m, in \u001b[0;36mNumpyArrayIterator._get_batches_of_transformed_samples\u001b[0;34m(self, index_array)\u001b[0m\n\u001b[1;32m    168\u001b[0m         img \u001b[39m=\u001b[39m array_to_img(batch_x[i], \u001b[39mself\u001b[39m\u001b[39m.\u001b[39mdata_format, scale\u001b[39m=\u001b[39m\u001b[39mTrue\u001b[39;00m)\n\u001b[1;32m    169\u001b[0m         fname \u001b[39m=\u001b[39m \u001b[39m'\u001b[39m\u001b[39m{prefix}\u001b[39;00m\u001b[39m_\u001b[39m\u001b[39m{index}\u001b[39;00m\u001b[39m_\u001b[39m\u001b[39m{hash}\u001b[39;00m\u001b[39m.\u001b[39m\u001b[39m{format}\u001b[39;00m\u001b[39m'\u001b[39m\u001b[39m.\u001b[39mformat(\n\u001b[1;32m    170\u001b[0m             prefix\u001b[39m=\u001b[39m\u001b[39mself\u001b[39m\u001b[39m.\u001b[39msave_prefix,\n\u001b[1;32m    171\u001b[0m             index\u001b[39m=\u001b[39mj,\n\u001b[1;32m    172\u001b[0m             \u001b[39mhash\u001b[39m\u001b[39m=\u001b[39mnp\u001b[39m.\u001b[39mrandom\u001b[39m.\u001b[39mrandint(\u001b[39m1e4\u001b[39m),\n\u001b[1;32m    173\u001b[0m             \u001b[39mformat\u001b[39m\u001b[39m=\u001b[39m\u001b[39mself\u001b[39m\u001b[39m.\u001b[39msave_format)\n\u001b[0;32m--> 174\u001b[0m         img\u001b[39m.\u001b[39;49msave(os\u001b[39m.\u001b[39;49mpath\u001b[39m.\u001b[39;49mjoin(\u001b[39mself\u001b[39;49m\u001b[39m.\u001b[39;49msave_to_dir, fname))\n\u001b[1;32m    175\u001b[0m batch_x_miscs \u001b[39m=\u001b[39m [xx[index_array] \u001b[39mfor\u001b[39;00m xx \u001b[39min\u001b[39;00m \u001b[39mself\u001b[39m\u001b[39m.\u001b[39mx_misc]\n\u001b[1;32m    176\u001b[0m output \u001b[39m=\u001b[39m (batch_x \u001b[39mif\u001b[39;00m batch_x_miscs \u001b[39m==\u001b[39m []\n\u001b[1;32m    177\u001b[0m           \u001b[39melse\u001b[39;00m [batch_x] \u001b[39m+\u001b[39m batch_x_miscs,)\n",
      "File \u001b[0;32m~/anaconda3/envs/ml/lib/python3.9/site-packages/PIL/Image.py:2317\u001b[0m, in \u001b[0;36mImage.save\u001b[0;34m(self, fp, format, **params)\u001b[0m\n\u001b[1;32m   2315\u001b[0m         fp \u001b[39m=\u001b[39m builtins\u001b[39m.\u001b[39mopen(filename, \u001b[39m\"\u001b[39m\u001b[39mr+b\u001b[39m\u001b[39m\"\u001b[39m)\n\u001b[1;32m   2316\u001b[0m     \u001b[39melse\u001b[39;00m:\n\u001b[0;32m-> 2317\u001b[0m         fp \u001b[39m=\u001b[39m builtins\u001b[39m.\u001b[39;49mopen(filename, \u001b[39m\"\u001b[39;49m\u001b[39mw+b\u001b[39;49m\u001b[39m\"\u001b[39;49m)\n\u001b[1;32m   2319\u001b[0m \u001b[39mtry\u001b[39;00m:\n\u001b[1;32m   2320\u001b[0m     save_handler(\u001b[39mself\u001b[39m, fp, filename)\n",
      "\u001b[0;31mFileNotFoundError\u001b[0m: [Errno 2] No such file or directory: './train/positive/pos__0_4560.jpg'"
     ]
    }
   ],
   "source": [
    "\n",
    "\n",
    "pos_dir = \"./data/positive/\"\n",
    "neg_dir = \"./data/negative/\"\n",
    "dir_gen_pos = './train/positive/'\n",
    "dir_gen_neg = './train/negative/'\n",
    "dir_path_test_pos = './test/positive/'\n",
    "dir_path_test_neg = './test/negative/'\n",
    "\n",
    "datagen = ImageDataGenerator(\n",
    "    rotation_range=359,\n",
    "    zoom_range=0.3,\n",
    "    horizontal_flip=True,\n",
    "    vertical_flip=True,\n",
    "    fill_mode='nearest'\n",
    ")\n",
    "\n",
    "# for image in os.listdir(pos_dir):\n",
    "#   print(pos_dir+image)\n",
    "\n",
    "\n",
    "for images in os.listdir(pos_dir):\n",
    "  img = cv2.imread(pos_dir+images) \n",
    "  img = np.expand_dims(img, axis=0)\n",
    "  i = 0\n",
    "  for batch in datagen.flow(img, batch_size=1, save_to_dir=dir_gen_pos, save_prefix='pos_', save_format='jpg'):\n",
    "    i += 1\n",
    "    if i == 20:\n",
    "      break\n",
    "  i = 0\n",
    "  for batch in datagen.flow(img, batch_size=1, save_to_dir=dir_path_test_pos, save_prefix='pos_test_', save_format='jpg'):\n",
    "    i += 1\n",
    "    if i == 3:\n",
    "      break\n",
    "\n",
    "for images in os.listdir(neg_dir):\n",
    "  img = cv2.imread(neg_dir+images) \n",
    "  img = np.expand_dims(img, axis=0)\n",
    "  i = 0\n",
    "  for batch in datagen.flow(img, batch_size=1, save_to_dir=dir_gen_neg, save_prefix='neg_', save_format='jpg'):\n",
    "    i += 1\n",
    "    if i == 12:\n",
    "      break\n",
    "  i = 0\n",
    "  for batch in datagen.flow(img, batch_size=1, save_to_dir=dir_path_test_neg, save_prefix='neg_test_', save_format='jpg'):\n",
    "    i += 1\n",
    "    if i == 3:\n",
    "      break"
   ]
  },
  {
   "cell_type": "code",
   "execution_count": null,
   "metadata": {},
   "outputs": [],
   "source": []
  }
 ],
 "metadata": {
  "kernelspec": {
   "display_name": "ml",
   "language": "python",
   "name": "python3"
  },
  "language_info": {
   "codemirror_mode": {
    "name": "ipython",
    "version": 3
   },
   "file_extension": ".py",
   "mimetype": "text/x-python",
   "name": "python",
   "nbconvert_exporter": "python",
   "pygments_lexer": "ipython3",
   "version": "3.9.13"
  },
  "orig_nbformat": 4
 },
 "nbformat": 4,
 "nbformat_minor": 2
}
